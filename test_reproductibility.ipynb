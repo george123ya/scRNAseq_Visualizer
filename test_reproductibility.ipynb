{
 "cells": [
  {
   "cell_type": "code",
   "execution_count": 2,
   "id": "ac06bdc2",
   "metadata": {
    "vscode": {
     "languageId": "r"
    }
   },
   "outputs": [
    {
     "name": "stdout",
     "output_type": "stream",
     "text": [
      "Initializing fast loader: https://storage.googleapis.com/scrna-seqbrowser/BoneMarrow_May2024_outliers_removed_Palantir_csc.zarr \n",
      "📁 Detected Zarr format - using fast Zarr loader\n",
      "🌐 Loading from URL...\n",
      "⏱ Zarr store opening took: 0.139 seconds\n",
      "🔍 Exploring Zarr structure...\n",
      "📋 Top-level groups: varp, var, X, uns, layers, raw, obs, varm, obsp, obsm \n",
      "⚠️ Could not determine dataset shape from X array\n",
      "⏱ Fast UMAP loading took: 0.024 seconds\n",
      "🔍 Available var attributes: dispersions_norm, log1p_total_counts, highly_variable, n_cells_by_counts_prefilter, log1p_mean_counts, total_counts_prefilter, pct_dropout_by_counts_prefilter, means, dispersions, mean_counts, gene, n_cells, total_counts, n_cells_by_counts, log1p_mean_counts_prefilter, mean_counts_prefilter, log1p_total_counts_prefilter, pct_dropout_by_counts \n",
      "⚠️ No gene index found, created sequential names\n",
      "✅ Found gene symbols using key: gene \n",
      "⏱ Gene info loading took: 0.166 seconds\n",
      "🔍 Available obs columns: pct_counts_in_top_200_genes_prefilter, pct_counts_in_top_500_genes, log1p_total_counts, pct_counts_in_top_50_genes_prefilter, Cluster_Coarse, palantir_entropy, pct_counts_in_top_50_genes, Cluster_Fine, Sample, n_genes_by_counts ... \n",
      "🔑 Available obs columns: pct_counts_in_top_200_genes_prefilter, pct_counts_in_top_500_genes, log1p_total_counts, pct_counts_in_top_50_genes_prefilter, Cluster_Coarse, palantir_entropy, pct_counts_in_top_50_genes, Cluster_Fine, Sample, n_genes_by_counts ... \n",
      "🗝️ Available obsm keys: X_pca, X_diffmap, DM_EigenVectors_multiscaled, DM_EigenVectors, X_draw_graph_fa, X_umap \n",
      "📋 Available layers: lognorm_pseudocount.1, raw_counts, unlogged_normalized \n"
     ]
    }
   ],
   "source": [
    "# Load required libraries\n",
    "library(ggplot2)\n",
    "\n",
    "# Load analysis functions\n",
    "source('https://raw.githubusercontent.com/george123ya/scRNAseq_Visualizer/main/modules/reproducible_functions.R')\n",
    "\n",
    "# Initialize data connection\n",
    "zarr_file <- 'https://storage.googleapis.com/scrna-seqbrowser/BoneMarrow_May2024_outliers_removed_Palantir_csc.zarr'  # or .h5ad file\n",
    "lazy_data <- init_fast_zarr_h5ad(zarr_file)\n"
   ]
  },
  {
   "cell_type": "code",
   "execution_count": 3,
   "id": "5c5e6990",
   "metadata": {
    "vscode": {
     "languageId": "r"
    }
   },
   "outputs": [],
   "source": [
    "df <- lazy_data$get_obs_column(lazy_data$z, 'Annotation')"
   ]
  },
  {
   "cell_type": "code",
   "execution_count": 24,
   "id": "5438afd7",
   "metadata": {
    "vscode": {
     "languageId": "r"
    }
   },
   "outputs": [
    {
     "data": {
      "text/html": [
       "<style>\n",
       ".list-inline {list-style: none; margin:0; padding: 0}\n",
       ".list-inline>li {display: inline-block}\n",
       ".list-inline>li:not(:last-child)::after {content: \"\\00b7\"; padding: 0 .5ex}\n",
       "</style>\n",
       "<ol class=list-inline><li>'lognorm_pseudocount.1'</li><li>'raw_counts'</li><li>'unlogged_normalized'</li></ol>\n"
      ],
      "text/latex": [
       "\\begin{enumerate*}\n",
       "\\item 'lognorm\\_pseudocount.1'\n",
       "\\item 'raw\\_counts'\n",
       "\\item 'unlogged\\_normalized'\n",
       "\\end{enumerate*}\n"
      ],
      "text/markdown": [
       "1. 'lognorm_pseudocount.1'\n",
       "2. 'raw_counts'\n",
       "3. 'unlogged_normalized'\n",
       "\n",
       "\n"
      ],
      "text/plain": [
       "[1] \"lognorm_pseudocount.1\" \"raw_counts\"            \"unlogged_normalized\"  "
      ]
     },
     "metadata": {},
     "output_type": "display_data"
    }
   ],
   "source": [
    "lazy_data$available_layers"
   ]
  }
 ],
 "metadata": {
  "kernelspec": {
   "display_name": "shiny_app_env (R)",
   "language": "R",
   "name": "ir33"
  },
  "language_info": {
   "codemirror_mode": "r",
   "file_extension": ".r",
   "mimetype": "text/x-r-source",
   "name": "R",
   "pygments_lexer": "r",
   "version": "4.4.3"
  }
 },
 "nbformat": 4,
 "nbformat_minor": 5
}
