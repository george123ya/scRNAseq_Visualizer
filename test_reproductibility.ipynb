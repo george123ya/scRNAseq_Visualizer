{
 "cells": [
  {
   "cell_type": "code",
   "execution_count": null,
   "id": "b6419c84",
   "metadata": {
    "vscode": {
     "languageId": "r"
    }
   },
   "outputs": [],
   "source": []
  }
 ],
 "metadata": {
  "kernelspec": {
   "display_name": "shiny_app_env (R)",
   "language": "R",
   "name": "ir33"
  },
  "language_info": {
   "name": "R"
  }
 },
 "nbformat": 4,
 "nbformat_minor": 5
}
