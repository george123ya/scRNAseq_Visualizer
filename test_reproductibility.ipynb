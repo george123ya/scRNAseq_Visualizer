{
 "cells": [
  {
   "cell_type": "code",
   "execution_count": 1,
   "id": "b6419c84",
   "metadata": {
    "vscode": {
     "languageId": "r"
    }
   },
   "outputs": [
    {
     "ename": "ERROR",
     "evalue": "No module named 'scipy'",
     "output_type": "error",
     "traceback": [
      "No module named 'scipy'Traceback:\n",
      "1. withVisible(eval(ei, envir))",
      "2. eval(ei, envir)",
      "3. eval(ei, envir)",
      "4. reticulate::py_run_string(\"\\nimport zarr\\nimport numpy as np\\nfrom scipy.sparse import csc_matrix, hstack\\n\\ndef get_gene_fast(z_csc, gene_index, layer='X'):\\n    # Get number of cells\\n    n_cells = z_csc['obs'][list(z_csc['obs'].array_keys())[0]].shape[0]\\n    \\n    # Select correct CSC structure\\n    if layer == 'X':\\n        csc = z_csc['X']\\n    else:\\n        csc = z_csc['layers'][layer]\\n\\n    # Get start and end positions for this gene in the selected layer\\n    start_idx = csc['indptr'][gene_index]\\n    end_idx = csc['indptr'][gene_index + 1]\\n\\n    # If gene has no expression values\\n    if start_idx == end_idx:\\n        return np.zeros(n_cells, dtype=np.float32)\\n\\n    # Get the cell indices and expression values for this gene\\n    cell_indices = csc['indices'][start_idx:end_idx]\\n    values = csc['data'][start_idx:end_idx]\\n\\n    # Create full expression vector\\n    expression = np.zeros(n_cells, dtype=np.float32)\\n    expression[cell_indices] = values\\n    \\n    return expression\\n\\n# Optimized get_genes_batch for non-contiguous indices\\ndef get_genes_batch(z_csc, gene_indices, layer='X', batch_size=1000):\\n    n_cells = z_csc['obs'][next(iter(z_csc['obs'].array_keys()))].shape[0]\\n    csc = z_csc['X'] if layer == 'X' else z_csc['layers'][layer]\\n    \\n    # Cache indptr to reduce cloud fetches\\n    indptr = csc['indptr'][:]\\n    indices = csc['indices']\\n    data = csc['data']\\n    \\n    # Sort gene indices\\n    sorted_indices = sorted(enumerate(gene_indices), key=lambda x: x[1])\\n    sorted_genes = [x[1] for x in sorted_indices]\\n    original_order = [x[0] for x in sorted_indices]\\n    \\n    if not sorted_genes:\\n        return csc_matrix((n_cells, 0), dtype=np.float32)\\n    \\n    # Initialize lists for non-zero entries\\n    all_row_indices = []\\n    all_col_indices = []\\n    all_data_values = []\\n    \\n    # Process genes in batches\\n    for batch_start in range(0, len(sorted_genes), batch_size):\\n        batch_end = min(batch_start + batch_size, len(sorted_genes))\\n        batch_genes = sorted_genes[batch_start:batch_end]\\n        \\n        if not batch_genes:\\n            continue\\n        \\n        # Get the range of data we need to fetch\\n        min_gene = batch_genes[0]\\n        max_gene = batch_genes[-1]\\n        \\n        # Fetch indptr for the full range\\n        range_indptr = indptr[min_gene:max_gene+2]\\n        start_idx = range_indptr[0]\\n        end_idx = range_indptr[-1]\\n        \\n        if start_idx < end_idx:\\n            # Fetch the contiguous block of data\\n            batch_indices = indices[start_idx:end_idx]\\n            batch_data = data[start_idx:end_idx]\\n        else:\\n            batch_indices = np.array([], dtype=np.int32)\\n            batch_data = np.array([], dtype=np.float32)\\n        \\n        # Process each gene in this batch\\n        for local_i, gene_idx in enumerate(batch_genes):\\n            # Calculate relative position within the fetched range\\n            rel_pos = gene_idx - min_gene\\n            s_rel = range_indptr[rel_pos] - start_idx\\n            e_rel = range_indptr[rel_pos + 1] - start_idx\\n            \\n            if s_rel < e_rel:\\n                # Global column index (position in the sorted list)\\n                global_col_idx = batch_start + local_i\\n                \\n                # Extract data for this specific gene\\n                gene_row_indices = batch_indices[s_rel:e_rel]\\n                gene_data = batch_data[s_rel:e_rel]\\n                \\n                # Add to global lists\\n                all_row_indices.append(gene_row_indices)\\n                all_col_indices.append(np.full(len(gene_row_indices), global_col_idx, dtype=np.int32))\\n                all_data_values.append(gene_data)\\n    \\n    # Combine all non-zero entries\\n    if not all_row_indices:\\n        return csc_matrix((n_cells, len(gene_indices)), dtype=np.float32)\\n    \\n    all_row_indices = np.concatenate(all_row_indices)\\n    all_col_indices = np.concatenate(all_col_indices)\\n    all_data_values = np.concatenate(all_data_values)\\n    \\n    # Create final sparse matrix\\n    result_mat = csc_matrix(\\n        (all_data_values, (all_row_indices, all_col_indices)),\\n        shape=(n_cells, len(gene_indices)),\\n        dtype=np.float32\\n    )\\n    \\n    # Reorder columns to match original gene_indices order\\n    inverse_order = np.argsort(original_order)\\n    result_mat = result_mat[:, inverse_order]\\n    \\n    return result_mat.toarray()\\n\")",
      "5. py_run_string_impl(code, local, convert)",
      "6. stop(structure(list(message = \"ModuleNotFoundError: No module named 'scipy'\\nRun `reticulate::py_last_error()` for details.\", \n .     call = py_run_string_impl(code, local, convert)), class = c(\"python.builtin.ModuleNotFoundError\", \n . \"python.builtin.ImportError\", \"python.builtin.Exception\", \"python.builtin.BaseException\", \n . \"python.builtin.object\", \"error\", \"condition\"), py_object = <environment>))"
     ]
    }
   ],
   "source": [
    "# Load analysis functions\n",
    "source('https://github.com/george123ya/scRNAseq_Visualizer/blob/main/modules/reproducible_functions.R?raw=true')"
   ]
  },
  {
   "cell_type": "code",
   "execution_count": null,
   "id": "ac06bdc2",
   "metadata": {
    "vscode": {
     "languageId": "r"
    }
   },
   "outputs": [
    {
     "name": "stdout",
     "output_type": "stream",
     "text": [
      "Initializing fast loader: https://storage.googleapis.com/scrna-seqbrowser/relaxed_epdsc_annotated_data_csc_full.zarr \n",
      "📁 Detected Zarr format - using fast Zarr loader\n",
      "🌐 Loading from URL...\n",
      "⏱ Zarr store opening took: 0.127 seconds\n",
      "🔍 Exploring Zarr structure...\n",
      "📋 Top-level groups: var, varp, layers, X, uns, raw, obsp, obs, obsm, varm \n",
      "⚠️ Could not determine dataset shape from X array\n",
      "⏱ Fast UMAP loading took: 0.013 seconds\n",
      "🔍 Available var attributes: mean_counts, highly_variable, dispersions_norm, means, ambient_expression, n_raw, dispersions, gene_id, n_cellbender, cellbender_analyzed, n_cells, n_cells_by_counts, total_counts, excluded, _index, pct_dropout_by_counts \n",
      "✅ Found var index using key: _index \n",
      "⏱ Gene info loading took: 0.148 seconds\n",
      "🔍 Available obs columns: Time, log_lib_size_raw_noExcluded, cluster_feature, pheno, percent_mito, pheno_65, doublet_hypothesis_probability, Replicate, Y1_CTRL_2, pheno_95 ... \n",
      "🔑 Available obs columns: Time, log_lib_size_raw_noExcluded, cluster_feature, pheno, percent_mito, pheno_65, doublet_hypothesis_probability, Replicate, Y1_CTRL_2, pheno_95 ... \n",
      "🗝️ Available obsm keys: X_pca, DM_EigenVectors, X_umap, cellbender_embedding, X_draw_graph_fa \n",
      "📋 Available layers: MAGIC_imputed_data, raw, cellbender \n"
     ]
    }
   ],
   "source": [
    "# Initialize data connection\n",
    "zarr_file <- 'https://storage.googleapis.com/scrna-seqbrowser/relaxed_epdsc_annotated_data_csc_full.zarr'  # or .h5ad file\n",
    "lazy_data <- init_fast_zarr_h5ad(zarr_file)"
   ]
  },
  {
   "cell_type": "code",
   "execution_count": null,
   "id": "283fb962",
   "metadata": {
    "vscode": {
     "languageId": "r"
    }
   },
   "outputs": [
    {
     "ename": "ERROR",
     "evalue": "module '__main__' has no attribute 'get_gene_fast'",
     "output_type": "error",
     "traceback": [
      "module '__main__' has no attribute 'get_gene_fast'Traceback:\n",
      "1. `$.python.builtin.module`(reticulate::py, get_gene_fast)",
      "2. py_get_attr(x, name, FALSE)",
      "3. stop(structure(list(message = \"AttributeError: module '__main__' has no attribute 'get_gene_fast'\\nRun `reticulate::py_last_error()` for details.\", \n .     call = py_get_attr(x, name, FALSE)), class = c(\"python.builtin.AttributeError\", \n . \"python.builtin.Exception\", \"python.builtin.BaseException\", \"python.builtin.object\", \n . \"error\", \"condition\"), py_object = <environment>))"
     ]
    }
   ],
   "source": [
    "reticulate::py$get_gene_fast"
   ]
  },
  {
   "cell_type": "code",
   "execution_count": null,
   "id": "6e23b4f8",
   "metadata": {
    "vscode": {
     "languageId": "r"
    }
   },
   "outputs": [
    {
     "name": "stderr",
     "output_type": "stream",
     "text": [
      "Timing stopped at: 0.008 0 0.008\n",
      "\n"
     ]
    },
    {
     "name": "stdout",
     "output_type": "stream",
     "text": [
      "⚠️ Error loading batch expression: AttributeError: module '__main__' has no attribute 'get_genes_batch'\n",
      "Run `reticulate::py_last_error()` for details. \n",
      "Run `reticulate::py_last_error()` for details.\n"
     ]
    },
    {
     "ename": "ERROR",
     "evalue": "Error in matrix(NA, nrow = lazy_data$n_cells, ncol = length(genes)): non-numeric matrix extent\n",
     "output_type": "error",
     "traceback": [
      "Error in matrix(NA, nrow = lazy_data$n_cells, ncol = length(genes)): non-numeric matrix extent\nTraceback:\n",
      "1. .handleSimpleError(function (cnd) \n . {\n .     watcher$capture_plot_and_output()\n .     cnd <- sanitize_call(cnd)\n .     watcher$push(cnd)\n .     switch(on_error, continue = invokeRestart(\"eval_continue\"), \n .         stop = invokeRestart(\"eval_stop\"), error = NULL)\n . }, \"non-numeric matrix extent\", base::quote(matrix(NA, nrow = lazy_data$n_cells, \n .     ncol = length(genes))))"
     ]
    }
   ],
   "source": [
    "# Process genes for Panel 1\n",
    "genes <- c(\"KRT10\", \"KRT14\", \"SOX9\", \"BRCA2\", \"GATA3\")\n",
    "genes <- toupper(trimws(genes))\n",
    "genes <- genes[genes %in% toupper(lazy_data$genes)]\n",
    "\n",
    "# Extract expression data\n",
    "expr_mat <- lazy_data$get_genes_expression_batch(genes, layer='X')\n",
    "if(is.null(expr_mat)) {\n",
    "  mat <- matrix(NA, nrow=lazy_data$n_cells, ncol=length(genes))\n",
    "  colnames(mat) <- genes\n",
    "} else {\n",
    "  mat <- expr_mat\n",
    "}\n",
    "\n",
    "# Process heatmap data\n",
    "heatmap_data <- process_heatmap_data(\n",
    "  mat=mat,\n",
    "  score_type=\"z_score\",\n",
    "  cell_group_mode=\"none\",\n",
    "  cluster_by=\"celltype\"\n",
    ")\n",
    "\n",
    "# Generate heatmap\n",
    "heatmap_plot <- render_heatmap(heatmap_data, \"Panel 1: Individual Genes\")\n",
    "print(heatmap_plot)"
   ]
  }
 ],
 "metadata": {
  "kernelspec": {
   "display_name": "shiny_app_env (R)",
   "language": "R",
   "name": "ir33"
  },
  "language_info": {
   "codemirror_mode": "r",
   "file_extension": ".r",
   "mimetype": "text/x-r-source",
   "name": "R",
   "pygments_lexer": "r",
   "version": "4.4.3"
  }
 },
 "nbformat": 4,
 "nbformat_minor": 5
}
