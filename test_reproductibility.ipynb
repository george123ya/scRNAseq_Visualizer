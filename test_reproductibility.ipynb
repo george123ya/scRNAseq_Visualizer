{
 "cells": [
  {
   "cell_type": "code",
   "execution_count": 1,
   "id": "b6419c84",
   "metadata": {
    "vscode": {
     "languageId": "r"
    }
   },
   "outputs": [],
   "source": [
    "# Load analysis functions\n",
    "source('https://github.com/george123ya/scRNAseq_Visualizer/blob/main/modules/reproducible_functions.R?raw=true')"
   ]
  },
  {
   "cell_type": "code",
   "execution_count": 2,
   "id": "ac06bdc2",
   "metadata": {
    "vscode": {
     "languageId": "r"
    }
   },
   "outputs": [
    {
     "name": "stdout",
     "output_type": "stream",
     "text": [
      "Initializing fast loader: https://storage.googleapis.com/scrna-seqbrowser/relaxed_epdsc_annotated_data_csc_full.zarr \n",
      "📁 Detected Zarr format - using fast Zarr loader\n",
      "🌐 Loading from URL...\n",
      "⏱ Zarr store opening took: 0.139 seconds\n",
      "🔍 Exploring Zarr structure...\n",
      "📋 Top-level groups: var, varp, layers, X, uns, raw, obsp, obs, obsm, varm \n",
      "⚠️ Could not determine dataset shape from X array\n",
      "⏱ Fast UMAP loading took: 0.019 seconds\n",
      "🔍 Available var attributes: mean_counts, highly_variable, dispersions_norm, means, ambient_expression, n_raw, dispersions, gene_id, n_cellbender, cellbender_analyzed, n_cells, n_cells_by_counts, total_counts, excluded, _index, pct_dropout_by_counts \n",
      "✅ Found var index using key: _index \n",
      "⏱ Gene info loading took: 0.512 seconds\n",
      "🔍 Available obs columns: Time, log_lib_size_raw_noExcluded, cluster_feature, pheno, percent_mito, pheno_65, doublet_hypothesis_probability, Replicate, Y1_CTRL_2, pheno_95 ... \n",
      "🔑 Available obs columns: Time, log_lib_size_raw_noExcluded, cluster_feature, pheno, percent_mito, pheno_65, doublet_hypothesis_probability, Replicate, Y1_CTRL_2, pheno_95 ... \n",
      "🗝️ Available obsm keys: X_pca, DM_EigenVectors, X_umap, cellbender_embedding, X_draw_graph_fa \n",
      "📋 Available layers: MAGIC_imputed_data, raw, cellbender \n"
     ]
    }
   ],
   "source": [
    "# Initialize data connection\n",
    "zarr_file <- 'https://storage.googleapis.com/scrna-seqbrowser/relaxed_epdsc_annotated_data_csc_full.zarr'  # or .h5ad file\n",
    "lazy_data <- init_fast_zarr_h5ad(zarr_file)"
   ]
  },
  {
   "cell_type": "code",
   "execution_count": null,
   "id": "6e23b4f8",
   "metadata": {
    "vscode": {
     "languageId": "r"
    }
   },
   "outputs": [
    {
     "name": "stdout",
     "output_type": "stream",
     "text": [
      "                                                      Function_Call\n",
      "1 {expr_mat<-reticulate::py$get_genes_batch(z,valid_indices,layer)}\n",
      "  Elapsed_Time_sec Total_RAM_Used_MiB Peak_RAM_Used_MiB\n",
      "1            0.961                0.3               0.3\n",
      "📏 Batch retrieved expression for 5 genes\n"
     ]
    },
    {
     "ename": "ERROR",
     "evalue": "Error in process_heatmap_data(mat = mat, score_type = \"z_score\", cell_group_mode = \"none\", : object 'values' not found\n",
     "output_type": "error",
     "traceback": [
      "Error in process_heatmap_data(mat = mat, score_type = \"z_score\", cell_group_mode = \"none\", : object 'values' not found\nTraceback:\n",
      "1. .handleSimpleError(function (cnd) \n . {\n .     watcher$capture_plot_and_output()\n .     cnd <- sanitize_call(cnd)\n .     watcher$push(cnd)\n .     switch(on_error, continue = invokeRestart(\"eval_continue\"), \n .         stop = invokeRestart(\"eval_stop\"), error = NULL)\n . }, \"object 'values' not found\", base::quote(process_heatmap_data(mat = mat, \n .     score_type = \"z_score\", cell_group_mode = \"none\", cluster_by = \"celltype\")))"
     ]
    }
   ],
   "source": [
    "# Process genes for Panel 1\n",
    "genes <- c(\"KRT10\", \"KRT14\", \"SOX9\", \"BRCA2\", \"GATA3\")\n",
    "genes <- toupper(trimws(genes))\n",
    "genes <- genes[genes %in% toupper(lazy_data$genes)]\n",
    "\n",
    "# Extract expression data\n",
    "expr_mat <- lazy_data$get_genes_expression_batch(genes, layer='X')\n",
    "if(is.null(expr_mat)) {\n",
    "  mat <- matrix(NA, nrow=lazy_data$n_cells, ncol=length(genes))\n",
    "  colnames(mat) <- genes\n",
    "} else {\n",
    "  mat <- expr_mat\n",
    "}\n",
    "\n",
    "# Process heatmap data\n",
    "heatmap_data <- process_heatmap_data(\n",
    "  mat=mat,\n",
    "  score_type=\"z_score\",\n",
    "  cell_group_mode=\"none\",\n",
    "  cluster_by=\"celltype\",\n",
    "  values=lazy_data\n",
    ")\n",
    "\n",
    "# Generate heatmap\n",
    "heatmap_plot <- render_heatmap(heatmap_data, \"Panel 1: Individual Genes\")\n",
    "print(heatmap_plot)"
   ]
  }
 ],
 "metadata": {
  "kernelspec": {
   "display_name": "shiny_app_env (R)",
   "language": "R",
   "name": "ir33"
  },
  "language_info": {
   "codemirror_mode": "r",
   "file_extension": ".r",
   "mimetype": "text/x-r-source",
   "name": "R",
   "pygments_lexer": "r",
   "version": "4.4.3"
  }
 },
 "nbformat": 4,
 "nbformat_minor": 5
}
