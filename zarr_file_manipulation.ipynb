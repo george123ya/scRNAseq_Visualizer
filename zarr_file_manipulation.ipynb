{
 "cells": [
  {
   "cell_type": "code",
   "execution_count": null,
   "id": "b11197ce",
   "metadata": {},
   "outputs": [
    {
     "name": "stdout",
     "output_type": "stream",
     "text": [
      "Reading h5ad file...\n",
      "Converting X to CSC sparse matrix...\n",
      "Converting layers to CSC sparse matrices...\n",
      "Creating Zarr store...\n"
     ]
    }
   ],
   "source": [
    "import scanpy as sc\n",
    "import scipy.sparse as sp\n",
    "\n",
    "# Read h5ad file\n",
    "print(\"Reading h5ad file...\")\n",
    "adata = sc.read_h5ad('../scRNA_Project/processed_data/strict_epdsc_annotated_data.h5')\n",
    "\n",
    "print(\"Converting X to CSC sparse matrix...\")\n",
    "# Convert main matrix to CSC (fast for gene queries)\n",
    "if sp.issparse(adata.X):\n",
    "    adata.X = adata.X.tocsc()\n",
    "\n",
    "print(\"Converting layers to CSC sparse matrices...\")\n",
    "# Convert all layers to CSC if they are sparse\n",
    "for layer in adata.layers:\n",
    "    if sp.issparse(adata.layers[layer]):\n",
    "        adata.layers[layer] = adata.layers[layer].tocsc()\n",
    "    else:\n",
    "        adata.layers[layer] = sp.csc_matrix(adata.layers[layer])\n",
    "\n",
    "print(\"Creating Zarr store...\")\n",
    "# Save as Zarr\n",
    "adata.write_zarr('../scRNA_Project/processed_data/strict_epdsc_annotated_data_full_csc.zarr')\n"
   ]
  },
  {
   "cell_type": "code",
   "execution_count": 30,
   "id": "ab28f159",
   "metadata": {},
   "outputs": [
    {
     "name": "stdout",
     "output_type": "stream",
     "text": [
      "Reading h5ad file...\n"
     ]
    }
   ],
   "source": [
    "import scanpy as sc\n",
    "import scipy.sparse as sp\n",
    "import anndata as ad\n",
    "\n",
    "# Read h5ad file\n",
    "print(\"Reading h5ad file...\")\n",
    "adata = ad.experimental.read_lazy('https://rubioinformatics.s3.us-east-1.amazonaws.com/Test_zarr/corrected_doublet_decontX_mt_Duo_allergy.zarr')\n",
    "# adata = ad.experimental.read_lazy('https://storage.googleapis.com/scrna-seqbrowser/BoneMarrow_May2024_outliers_removed_Palantir_csc.zarr')"
   ]
  },
  {
   "cell_type": "code",
   "execution_count": 39,
   "id": "451eba38",
   "metadata": {},
   "outputs": [
    {
     "data": {
      "text/plain": [
       "array(['G1', 'G1', 'G1', ..., 'G1', 'G1', 'G1'],\n",
       "      shape=(2079,), dtype='<U3')"
      ]
     },
     "execution_count": 39,
     "metadata": {},
     "output_type": "execute_result"
    }
   ],
   "source": [
    "import zarr\n",
    "import numpy as np\n",
    "\n",
    "def get_obs_column_fast(z, name, cells=None):\n",
    "\n",
    "    # Check root keys\n",
    "    if \"obs\" not in z.keys():\n",
    "        return None\n",
    "\n",
    "    obs = z[\"obs\"]\n",
    "    if name not in obs.keys():\n",
    "        return None\n",
    "\n",
    "    col_obj = obs[name]\n",
    "\n",
    "    # Detect if it's a zarr.Group representing a categorical column\n",
    "    if isinstance(col_obj, zarr.Group):\n",
    "        full_codes = col_obj[\"codes\"][:]\n",
    "        full_categories = col_obj[\"categories\"][:]\n",
    "        # Convert to Python list or NumPy array of categories\n",
    "        full_col = np.array([full_categories[i] for i in full_codes])\n",
    "    else:\n",
    "        full_col = col_obj[:]\n",
    "\n",
    "    # Handle subsetting\n",
    "    if cells is None or cells == \"all\":\n",
    "        return full_col\n",
    "    elif isinstance(cells, (list, np.ndarray)) and all(1 <= c <= len(full_col) for c in cells):\n",
    "        # Convert to 0-based indexing\n",
    "        return full_col[np.array(cells) - 1]\n",
    "    else:\n",
    "        raise ValueError(\"Invalid cell indices provided\")\n",
    "\n",
    "z = zarr.open('https://rubioinformatics.s3.us-east-1.amazonaws.com/Test_zarr/corrected_doublet_decontX_mt_Duo_allergy.zarr', mode=\"r\")\n",
    "\n",
    "get_obs_column_fast(z, \"cyclon_Phase\")"
   ]
  },
  {
   "cell_type": "code",
   "execution_count": 21,
   "id": "37f15bc4",
   "metadata": {},
   "outputs": [
    {
     "ename": "AttributeError",
     "evalue": "'DataArray' object has no attribute 'cat'",
     "output_type": "error",
     "traceback": [
      "\u001b[31m---------------------------------------------------------------------------\u001b[39m",
      "\u001b[31mAttributeError\u001b[39m                            Traceback (most recent call last)",
      "\u001b[36mCell\u001b[39m\u001b[36m \u001b[39m\u001b[32mIn[21]\u001b[39m\u001b[32m, line 1\u001b[39m\n\u001b[32m----> \u001b[39m\u001b[32m1\u001b[39m \u001b[43msc\u001b[49m\u001b[43m.\u001b[49m\u001b[43mtl\u001b[49m\u001b[43m.\u001b[49m\u001b[43mrank_genes_groups\u001b[49m\u001b[43m(\u001b[49m\u001b[43madata\u001b[49m\u001b[43m,\u001b[49m\u001b[43m \u001b[49m\u001b[33;43m'\u001b[39;49m\u001b[33;43mAnnotation\u001b[39;49m\u001b[33;43m'\u001b[39;49m\u001b[43m)\u001b[49m\n",
      "\u001b[36mFile \u001b[39m\u001b[32m~/gmunoz/SCRATCH/miniconda3/envs/sc_rna_env_python2/lib/python3.11/site-packages/legacy_api_wrap/__init__.py:82\u001b[39m, in \u001b[36mlegacy_api.<locals>.wrapper.<locals>.fn_compatible\u001b[39m\u001b[34m(*args_all, **kw)\u001b[39m\n\u001b[32m     79\u001b[39m \u001b[38;5;129m@wraps\u001b[39m(fn)\n\u001b[32m     80\u001b[39m \u001b[38;5;28;01mdef\u001b[39;00m\u001b[38;5;250m \u001b[39m\u001b[34mfn_compatible\u001b[39m(*args_all: P.args, **kw: P.kwargs) -> R:\n\u001b[32m     81\u001b[39m     \u001b[38;5;28;01mif\u001b[39;00m \u001b[38;5;28mlen\u001b[39m(args_all) <= n_positional:\n\u001b[32m---> \u001b[39m\u001b[32m82\u001b[39m         \u001b[38;5;28;01mreturn\u001b[39;00m \u001b[43mfn\u001b[49m\u001b[43m(\u001b[49m\u001b[43m*\u001b[49m\u001b[43margs_all\u001b[49m\u001b[43m,\u001b[49m\u001b[43m \u001b[49m\u001b[43m*\u001b[49m\u001b[43m*\u001b[49m\u001b[43mkw\u001b[49m\u001b[43m)\u001b[49m\n\u001b[32m     84\u001b[39m     args_pos: P.args\n\u001b[32m     85\u001b[39m     args_pos, args_rest = args_all[:n_positional], args_all[n_positional:]\n",
      "\u001b[36mFile \u001b[39m\u001b[32m~/gmunoz/SCRATCH/miniconda3/envs/sc_rna_env_python2/lib/python3.11/site-packages/scanpy/tools/_rank_genes_groups.py:677\u001b[39m, in \u001b[36mrank_genes_groups\u001b[39m\u001b[34m(adata, groupby, mask_var, use_raw, groups, reference, n_genes, rankby_abs, pts, key_added, copy, method, corr_method, tie_correct, layer, **kwds)\u001b[39m\n\u001b[32m    667\u001b[39m adata.uns[key_added] = {}\n\u001b[32m    668\u001b[39m adata.uns[key_added][\u001b[33m\"\u001b[39m\u001b[33mparams\u001b[39m\u001b[33m\"\u001b[39m] = \u001b[38;5;28mdict\u001b[39m(\n\u001b[32m    669\u001b[39m     groupby=groupby,\n\u001b[32m    670\u001b[39m     reference=reference,\n\u001b[32m   (...)\u001b[39m\u001b[32m    674\u001b[39m     corr_method=corr_method,\n\u001b[32m    675\u001b[39m )\n\u001b[32m--> \u001b[39m\u001b[32m677\u001b[39m test_obj = \u001b[43m_RankGenes\u001b[49m\u001b[43m(\u001b[49m\n\u001b[32m    678\u001b[39m \u001b[43m    \u001b[49m\u001b[43madata\u001b[49m\u001b[43m,\u001b[49m\n\u001b[32m    679\u001b[39m \u001b[43m    \u001b[49m\u001b[43mgroups_order\u001b[49m\u001b[43m,\u001b[49m\n\u001b[32m    680\u001b[39m \u001b[43m    \u001b[49m\u001b[43mgroupby\u001b[49m\u001b[43m,\u001b[49m\n\u001b[32m    681\u001b[39m \u001b[43m    \u001b[49m\u001b[43mmask_var\u001b[49m\u001b[43m=\u001b[49m\u001b[43mmask_var\u001b[49m\u001b[43m,\u001b[49m\n\u001b[32m    682\u001b[39m \u001b[43m    \u001b[49m\u001b[43mreference\u001b[49m\u001b[43m=\u001b[49m\u001b[43mreference\u001b[49m\u001b[43m,\u001b[49m\n\u001b[32m    683\u001b[39m \u001b[43m    \u001b[49m\u001b[43muse_raw\u001b[49m\u001b[43m=\u001b[49m\u001b[43muse_raw\u001b[49m\u001b[43m,\u001b[49m\n\u001b[32m    684\u001b[39m \u001b[43m    \u001b[49m\u001b[43mlayer\u001b[49m\u001b[43m=\u001b[49m\u001b[43mlayer\u001b[49m\u001b[43m,\u001b[49m\n\u001b[32m    685\u001b[39m \u001b[43m    \u001b[49m\u001b[43mcomp_pts\u001b[49m\u001b[43m=\u001b[49m\u001b[43mpts\u001b[49m\u001b[43m,\u001b[49m\n\u001b[32m    686\u001b[39m \u001b[43m\u001b[49m\u001b[43m)\u001b[49m\n\u001b[32m    688\u001b[39m \u001b[38;5;28;01mif\u001b[39;00m check_nonnegative_integers(test_obj.X) \u001b[38;5;129;01mand\u001b[39;00m method != \u001b[33m\"\u001b[39m\u001b[33mlogreg\u001b[39m\u001b[33m\"\u001b[39m:\n\u001b[32m    689\u001b[39m     logg.warning(\n\u001b[32m    690\u001b[39m         \u001b[33m\"\u001b[39m\u001b[33mIt seems you use rank_genes_groups on the raw count data. \u001b[39m\u001b[33m\"\u001b[39m\n\u001b[32m    691\u001b[39m         \u001b[33m\"\u001b[39m\u001b[33mPlease logarithmize your data before calling rank_genes_groups.\u001b[39m\u001b[33m\"\u001b[39m\n\u001b[32m    692\u001b[39m     )\n",
      "\u001b[36mFile \u001b[39m\u001b[32m~/gmunoz/SCRATCH/miniconda3/envs/sc_rna_env_python2/lib/python3.11/site-packages/scanpy/tools/_rank_genes_groups.py:141\u001b[39m, in \u001b[36m_RankGenes.__init__\u001b[39m\u001b[34m(self, adata, groups, groupby, mask_var, reference, use_raw, layer, comp_pts)\u001b[39m\n\u001b[32m    138\u001b[39m \u001b[38;5;28;01melse\u001b[39;00m:\n\u001b[32m    139\u001b[39m     \u001b[38;5;28mself\u001b[39m.expm1_func = np.expm1\n\u001b[32m--> \u001b[39m\u001b[32m141\u001b[39m \u001b[38;5;28mself\u001b[39m.groups_order, \u001b[38;5;28mself\u001b[39m.groups_masks_obs = \u001b[43m_utils\u001b[49m\u001b[43m.\u001b[49m\u001b[43mselect_groups\u001b[49m\u001b[43m(\u001b[49m\n\u001b[32m    142\u001b[39m \u001b[43m    \u001b[49m\u001b[43madata\u001b[49m\u001b[43m,\u001b[49m\u001b[43m \u001b[49m\u001b[43mgroups\u001b[49m\u001b[43m,\u001b[49m\u001b[43m \u001b[49m\u001b[43mgroupby\u001b[49m\n\u001b[32m    143\u001b[39m \u001b[43m\u001b[49m\u001b[43m)\u001b[49m\n\u001b[32m    145\u001b[39m \u001b[38;5;66;03m# Singlet groups cause division by zero errors\u001b[39;00m\n\u001b[32m    146\u001b[39m invalid_groups_selected = \u001b[38;5;28mset\u001b[39m(\u001b[38;5;28mself\u001b[39m.groups_order) & \u001b[38;5;28mset\u001b[39m(\n\u001b[32m    147\u001b[39m     adata.obs[groupby].value_counts().loc[\u001b[38;5;28;01mlambda\u001b[39;00m x: x < \u001b[32m2\u001b[39m].index\n\u001b[32m    148\u001b[39m )\n",
      "\u001b[36mFile \u001b[39m\u001b[32m~/gmunoz/SCRATCH/miniconda3/envs/sc_rna_env_python2/lib/python3.11/site-packages/scanpy/_utils/__init__.py:856\u001b[39m, in \u001b[36mselect_groups\u001b[39m\u001b[34m(adata, groups_order_subset, key)\u001b[39m\n\u001b[32m    850\u001b[39m \u001b[38;5;28;01mdef\u001b[39;00m\u001b[38;5;250m \u001b[39m\u001b[34mselect_groups\u001b[39m(\n\u001b[32m    851\u001b[39m     adata: AnnData,\n\u001b[32m    852\u001b[39m     groups_order_subset: Iterable[\u001b[38;5;28mstr\u001b[39m] | Literal[\u001b[33m\"\u001b[39m\u001b[33mall\u001b[39m\u001b[33m\"\u001b[39m] = \u001b[33m\"\u001b[39m\u001b[33mall\u001b[39m\u001b[33m\"\u001b[39m,\n\u001b[32m    853\u001b[39m     key: \u001b[38;5;28mstr\u001b[39m = \u001b[33m\"\u001b[39m\u001b[33mgroups\u001b[39m\u001b[33m\"\u001b[39m,\n\u001b[32m    854\u001b[39m ) -> \u001b[38;5;28mtuple\u001b[39m[\u001b[38;5;28mlist\u001b[39m[\u001b[38;5;28mstr\u001b[39m], NDArray[np.bool_]]:\n\u001b[32m    855\u001b[39m \u001b[38;5;250m    \u001b[39m\u001b[33;03m\"\"\"Get subset of groups in adata.obs[key].\"\"\"\u001b[39;00m\n\u001b[32m--> \u001b[39m\u001b[32m856\u001b[39m     groups_order = \u001b[43madata\u001b[49m\u001b[43m.\u001b[49m\u001b[43mobs\u001b[49m\u001b[43m[\u001b[49m\u001b[43mkey\u001b[49m\u001b[43m]\u001b[49m\u001b[43m.\u001b[49m\u001b[43mcat\u001b[49m.categories\n\u001b[32m    857\u001b[39m     \u001b[38;5;28;01mif\u001b[39;00m key + \u001b[33m\"\u001b[39m\u001b[33m_masks\u001b[39m\u001b[33m\"\u001b[39m \u001b[38;5;129;01min\u001b[39;00m adata.uns:\n\u001b[32m    858\u001b[39m         groups_masks_obs = adata.uns[key + \u001b[33m\"\u001b[39m\u001b[33m_masks\u001b[39m\u001b[33m\"\u001b[39m]\n",
      "\u001b[36mFile \u001b[39m\u001b[32m~/gmunoz/SCRATCH/miniconda3/envs/sc_rna_env_python2/lib/python3.11/site-packages/xarray/core/common.py:306\u001b[39m, in \u001b[36mAttrAccessMixin.__getattr__\u001b[39m\u001b[34m(self, name)\u001b[39m\n\u001b[32m    304\u001b[39m         \u001b[38;5;28;01mwith\u001b[39;00m suppress(\u001b[38;5;167;01mKeyError\u001b[39;00m):\n\u001b[32m    305\u001b[39m             \u001b[38;5;28;01mreturn\u001b[39;00m source[name]\n\u001b[32m--> \u001b[39m\u001b[32m306\u001b[39m \u001b[38;5;28;01mraise\u001b[39;00m \u001b[38;5;167;01mAttributeError\u001b[39;00m(\n\u001b[32m    307\u001b[39m     \u001b[33mf\u001b[39m\u001b[33m\"\u001b[39m\u001b[38;5;132;01m{\u001b[39;00m\u001b[38;5;28mtype\u001b[39m(\u001b[38;5;28mself\u001b[39m).\u001b[34m__name__\u001b[39m\u001b[38;5;132;01m!r}\u001b[39;00m\u001b[33m object has no attribute \u001b[39m\u001b[38;5;132;01m{\u001b[39;00mname\u001b[38;5;132;01m!r}\u001b[39;00m\u001b[33m\"\u001b[39m\n\u001b[32m    308\u001b[39m )\n",
      "\u001b[31mAttributeError\u001b[39m: 'DataArray' object has no attribute 'cat'"
     ]
    }
   ],
   "source": [
    "sc.tl.rank_genes_groups(adata, 'Annotation')"
   ]
  }
 ],
 "metadata": {
  "kernelspec": {
   "display_name": "sc_rna_env_python2",
   "language": "python",
   "name": "python3"
  },
  "language_info": {
   "codemirror_mode": {
    "name": "ipython",
    "version": 3
   },
   "file_extension": ".py",
   "mimetype": "text/x-python",
   "name": "python",
   "nbconvert_exporter": "python",
   "pygments_lexer": "ipython3",
   "version": "3.11.13"
  }
 },
 "nbformat": 4,
 "nbformat_minor": 5
}
