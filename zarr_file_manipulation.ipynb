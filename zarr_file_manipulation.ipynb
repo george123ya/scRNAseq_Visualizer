{
 "cells": [
  {
   "cell_type": "code",
   "execution_count": null,
   "id": "b11197ce",
   "metadata": {},
   "outputs": [
    {
     "name": "stdout",
     "output_type": "stream",
     "text": [
      "Reading h5ad file...\n",
      "Converting X to CSC sparse matrix...\n",
      "Converting layers to CSC sparse matrices...\n",
      "Creating Zarr store...\n"
     ]
    }
   ],
   "source": [
    "import scanpy as sc\n",
    "import scipy.sparse as sp\n",
    "\n",
    "# Read h5ad file\n",
    "print(\"Reading h5ad file...\")\n",
    "adata = sc.read_h5ad('../scRNA_Project/processed_data/strict_epdsc_annotated_data.h5')\n",
    "\n",
    "print(\"Converting X to CSC sparse matrix...\")\n",
    "# Convert main matrix to CSC (fast for gene queries)\n",
    "if sp.issparse(adata.X):\n",
    "    adata.X = adata.X.tocsc()\n",
    "\n",
    "print(\"Converting layers to CSC sparse matrices...\")\n",
    "# Convert all layers to CSC if they are sparse\n",
    "for layer in adata.layers:\n",
    "    if sp.issparse(adata.layers[layer]):\n",
    "        adata.layers[layer] = adata.layers[layer].tocsc()\n",
    "    else:\n",
    "        adata.layers[layer] = sp.csc_matrix(adata.layers[layer])\n",
    "\n",
    "print(\"Creating Zarr store...\")\n",
    "# Save as Zarr\n",
    "adata.write_zarr('../scRNA_Project/processed_data/strict_epdsc_annotated_data_full_csc.zarr')\n"
   ]
  }
 ],
 "metadata": {
  "kernelspec": {
   "display_name": "sc_rna_env_python2",
   "language": "python",
   "name": "python3"
  },
  "language_info": {
   "codemirror_mode": {
    "name": "ipython",
    "version": 3
   },
   "file_extension": ".py",
   "mimetype": "text/x-python",
   "name": "python",
   "nbconvert_exporter": "python",
   "pygments_lexer": "ipython3",
   "version": "3.11.13"
  }
 },
 "nbformat": 4,
 "nbformat_minor": 5
}
