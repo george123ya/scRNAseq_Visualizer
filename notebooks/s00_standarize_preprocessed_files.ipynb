{
 "cells": [
  {
   "cell_type": "code",
   "execution_count": 2,
   "id": "10f493b2",
   "metadata": {},
   "outputs": [],
   "source": [
    "import scanpy as sc, anndata as ad, numpy as np, pandas as pd\n",
    "import os\n",
    "from scipy import sparse"
   ]
  },
  {
   "cell_type": "markdown",
   "id": "21561724",
   "metadata": {},
   "source": [
    "### GSE147424"
   ]
  },
  {
   "cell_type": "code",
   "execution_count": 2,
   "id": "3c6a3b3e",
   "metadata": {},
   "outputs": [
    {
     "name": "stdout",
     "output_type": "stream",
     "text": [
      "Processing: GSM4430459_MS.sample1.clean.data.txt.gz\n"
     ]
    },
    {
     "name": "stdout",
     "output_type": "stream",
     "text": [
      "Processing: GSM4430460_MS.sample2.clean.data.txt.gz\n",
      "Processing: GSM4430461_MS.sample3.clean.data.txt.gz\n",
      "Processing: GSM4430462_MS.sample4.clean.data.txt.gz\n",
      "Processing: GSM4430463_MS.sample5.clean.data.txt.gz\n",
      "Processing: GSM4430464_MS.sample6.clean.data.txt.gz\n",
      "Processing: GSM4430465_MS.sample7.clean.data.txt.gz\n",
      "Processing: GSM4430466_MS.sample8.clean.data.txt.gz\n",
      "Processing: GSM4430467_MS.sample9.clean.data.txt.gz\n",
      "Processing: GSM4430468_MS.sample10.clean.data.txt.gz\n",
      "Processing: GSM4430469_MS.sample11.clean.data.txt.gz\n",
      "Processing: GSM4430470_MS.sample12.clean.data.txt.gz\n",
      "Processing: GSM4430471_MS.sample13.clean.data.txt.gz\n",
      "Processing: GSM4430472_MS.sample14.clean.data.txt.gz\n",
      "Processing: GSM4430473_MS.sample15.clean.data.txt.gz\n",
      "Processing: GSM4430474_MS.sample16.clean.data.txt.gz\n",
      "Processing: GSM4430475_MS.sample17.clean.data.txt.gz\n",
      "✅ All individual samples processed and saved.\n"
     ]
    }
   ],
   "source": [
    "import os\n",
    "import scanpy as sc\n",
    "import pandas as pd\n",
    "from scipy import sparse\n",
    "\n",
    "# === Config ===\n",
    "folder_path = '/home/genos/gmunoz/SCRATCH/Projects/scRNA_Project/raw_data/GSE147424'\n",
    "output_folder = os.path.join(folder_path, \"h5ad_sparse\")\n",
    "os.makedirs(output_folder, exist_ok=True)\n",
    "\n",
    "# === Step 1: Process each file ===\n",
    "for file_name in sorted(os.listdir(folder_path)):\n",
    "    if file_name.endswith('.txt.gz'):\n",
    "        print(f\"Processing: {file_name}\")\n",
    "        sample_name = file_name.split('.')[0]\n",
    "        count_data_file = os.path.join(folder_path, file_name)\n",
    "\n",
    "        # Load data — gene names are rownames, cells are columns\n",
    "        df = pd.read_csv(count_data_file, index_col=0)\n",
    "        \n",
    "        # Transpose: now rows = cells, columns = genes\n",
    "        df = df.T.astype('float32')\n",
    "\n",
    "        # Convert to sparse matrix\n",
    "        X_sparse = sparse.csr_matrix(df.values)\n",
    "\n",
    "        # Create AnnData\n",
    "        adata = sc.AnnData(X=X_sparse)\n",
    "        adata.obs_names = df.index  # cell names\n",
    "        adata.var_names = df.columns  # gene names\n",
    "        adata.obs['sample'] = sample_name\n",
    "\n",
    "        # Store raw counts\n",
    "        adata.layers[\"raw_data\"] = adata.X.copy()\n",
    "\n",
    "        # Ensure unique cell names\n",
    "        adata.obs_names_make_unique()\n",
    "\n",
    "        # Save to disk\n",
    "        adata.write(os.path.join(output_folder, f\"{sample_name}.h5ad\"), compression=\"gzip\")\n",
    "\n",
    "print(\"✅ All individual samples processed and saved.\")\n"
   ]
  },
  {
   "cell_type": "code",
   "execution_count": 3,
   "id": "cc5fdb92",
   "metadata": {},
   "outputs": [
    {
     "name": "stdout",
     "output_type": "stream",
     "text": [
      "✅ All samples merged into combined_sparse.h5ad\n"
     ]
    }
   ],
   "source": [
    "# === Optional Step: Load and concatenate all h5ad files ===\n",
    "h5ad_files = sorted([os.path.join(output_folder, f) for f in os.listdir(output_folder) if f.endswith('.h5ad')])\n",
    "adatas = [sc.read(f) for f in h5ad_files]\n",
    "\n",
    "# Concatenate while preserving sample information\n",
    "combined_adata = sc.concat(adatas, label='sample', join='outer', merge='same')\n",
    "combined_adata.write(os.path.join(folder_path, \"combined_sparse.h5ad\"), compression=\"gzip\")\n",
    "\n",
    "print(\"✅ All samples merged into combined_sparse.h5ad\")\n"
   ]
  },
  {
   "cell_type": "markdown",
   "id": "02efb7b4",
   "metadata": {},
   "source": [
    "### GSE144236"
   ]
  },
  {
   "cell_type": "code",
   "execution_count": 2,
   "id": "d03fc781",
   "metadata": {},
   "outputs": [],
   "source": [
    "count_data_file = '/home/genos/gmunoz/SCRATCH/Projects/scRNA_Project/raw_data/GSE144236/GSE144236_cSCC_counts.txt.gz'\n",
    "\n",
    "# Load with optimized settings\n",
    "df = pd.read_csv(\n",
    "    count_data_file,\n",
    "    index_col=0,\n",
    "    sep='\\t',\n",
    "    compression='gzip'\n",
    ")\n",
    "\n",
    "# Transpose for AnnData format (cells as rows, genes as columns)\n",
    "df = df.T\n"
   ]
  },
  {
   "cell_type": "code",
   "execution_count": 16,
   "id": "1aaf3f3a",
   "metadata": {},
   "outputs": [],
   "source": [
    "# Convert to sparse matrix\n",
    "X_sparse = sparse.csr_matrix(df.iloc[:,2:].values)\n",
    "\n",
    "# Create AnnData\n",
    "adata = sc.AnnData(X=X_sparse)\n",
    "adata.obs_names = df.index  # cell names\n",
    "adata.var_names = df.iloc[:,2:].columns  # gene names\n",
    "adata.obs['sample'] = df.iloc[:,0] # Patient\n",
    "# adata.obs['tissue'] = df.iloc[:,1] # Tissue type (0=normal, 1=tumor)\n",
    "adata.obs['tissue'] = df.iloc[:, 1].map({0: 'normal', 1: 'tumor'}).astype('category')\n",
    "\n",
    "# Store raw counts\n",
    "adata.layers[\"raw_data\"] = adata.X.copy()"
   ]
  },
  {
   "cell_type": "code",
   "execution_count": 20,
   "id": "34c3f47d",
   "metadata": {},
   "outputs": [],
   "source": [
    "adata.write('/home/genos/gmunoz/SCRATCH/Projects/scRNA_Project/raw_data/GSE144236/cSCC.h5ad', compression=\"gzip\")"
   ]
  },
  {
   "cell_type": "markdown",
   "id": "ed423a25",
   "metadata": {},
   "source": [
    "### E-MTAB-8142"
   ]
  },
  {
   "cell_type": "code",
   "execution_count": null,
   "id": "bdf21414",
   "metadata": {},
   "outputs": [],
   "source": [
    "file_path = '/home/genos/gmunoz/SCRATCH/Projects/scRNA_Project/raw_data/E-MTAB-8142/arrayexpress_counts.txt'\n",
    "\n",
    "df = pd.read_csv(file_path, sep='\\t', index_col=0)\n",
    "df = df.T"
   ]
  },
  {
   "cell_type": "code",
   "execution_count": 2,
   "id": "5cf256e3",
   "metadata": {},
   "outputs": [],
   "source": [
    "import pandas as pd\n",
    "\n",
    "file_path = '/home/genos/gmunoz/SCRATCH/Projects/scRNA_Project/raw_data/E-MTAB-8142/arrayexpress_counts.txt'\n",
    "\n",
    "# Load only numeric columns with dtype float32, leave gene names as index\n",
    "df = pd.read_csv(\n",
    "    file_path,\n",
    "    sep='\\t',\n",
    "    index_col=0,\n",
    "    low_memory=False,\n",
    "    memory_map=True\n",
    ")\n",
    "\n",
    "# Now convert data to float32 AFTER loading\n",
    "df = df.astype('float32')\n",
    "df = df.T\n"
   ]
  },
  {
   "cell_type": "code",
   "execution_count": 9,
   "id": "daf08884",
   "metadata": {},
   "outputs": [],
   "source": [
    "# Convert to sparse matrix\n",
    "X_sparse = sparse.csr_matrix(df.values)\n",
    "\n",
    "# Create AnnData\n",
    "adata = sc.AnnData(X=X_sparse)\n",
    "adata.obs_names = df.index  # cell names\n",
    "adata.var_names = df.columns  # gene names\n",
    "\n",
    "# Store raw counts\n",
    "adata.layers[\"raw_data\"] = adata.X.copy()"
   ]
  },
  {
   "cell_type": "code",
   "execution_count": 13,
   "id": "d189b181",
   "metadata": {},
   "outputs": [
    {
     "data": {
      "text/plain": [
       "AnnData object with n_obs × n_vars = 82228 × 23310\n",
       "    layers: 'raw_data'"
      ]
     },
     "execution_count": 13,
     "metadata": {},
     "output_type": "execute_result"
    }
   ],
   "source": [
    "adata"
   ]
  },
  {
   "cell_type": "code",
   "execution_count": 14,
   "id": "66b345a3",
   "metadata": {},
   "outputs": [],
   "source": [
    "meta_df = pd.read_csv('/home/genos/gmunoz/SCRATCH/Projects/scRNA_Project/raw_data/E-MTAB-8142/arrayexpress_metadata.txt', sep='\\t')"
   ]
  },
  {
   "cell_type": "code",
   "execution_count": 18,
   "id": "1465b0b8",
   "metadata": {},
   "outputs": [
    {
     "data": {
      "text/html": [
       "<div>\n",
       "<style scoped>\n",
       "    .dataframe tbody tr th:only-of-type {\n",
       "        vertical-align: middle;\n",
       "    }\n",
       "\n",
       "    .dataframe tbody tr th {\n",
       "        vertical-align: top;\n",
       "    }\n",
       "\n",
       "    .dataframe thead th {\n",
       "        text-align: right;\n",
       "    }\n",
       "</style>\n",
       "<table border=\"1\" class=\"dataframe\">\n",
       "  <thead>\n",
       "    <tr style=\"text-align: right;\">\n",
       "      <th></th>\n",
       "      <th>Cell</th>\n",
       "      <th>SampleID</th>\n",
       "      <th>Sample</th>\n",
       "      <th>Tissue_layer</th>\n",
       "      <th>Flow_gate</th>\n",
       "      <th>Cell_group</th>\n",
       "      <th>Cell_type</th>\n",
       "    </tr>\n",
       "  </thead>\n",
       "  <tbody>\n",
       "    <tr>\n",
       "      <th>0</th>\n",
       "      <td>s1_Derm_Fibro_AAACCTGAGACTCGGA</td>\n",
       "      <td>4820STDY7388991</td>\n",
       "      <td>s1</td>\n",
       "      <td>Dermis</td>\n",
       "      <td>Fibroblast</td>\n",
       "      <td>Fibroblast</td>\n",
       "      <td>Fibroblast 2</td>\n",
       "    </tr>\n",
       "    <tr>\n",
       "      <th>1</th>\n",
       "      <td>s1_Derm_Fibro_AAACCTGCAAAGGCGT</td>\n",
       "      <td>4820STDY7388991</td>\n",
       "      <td>s1</td>\n",
       "      <td>Dermis</td>\n",
       "      <td>Fibroblast</td>\n",
       "      <td>Fibroblast</td>\n",
       "      <td>Fibroblast 2</td>\n",
       "    </tr>\n",
       "    <tr>\n",
       "      <th>2</th>\n",
       "      <td>s1_Derm_Fibro_AAACGGGTCCAGTAGT</td>\n",
       "      <td>4820STDY7388991</td>\n",
       "      <td>s1</td>\n",
       "      <td>Dermis</td>\n",
       "      <td>Fibroblast</td>\n",
       "      <td>Fibroblast</td>\n",
       "      <td>Fibroblast 2</td>\n",
       "    </tr>\n",
       "    <tr>\n",
       "      <th>3</th>\n",
       "      <td>s1_Derm_Fibro_AAAGATGAGAGGACGG</td>\n",
       "      <td>4820STDY7388991</td>\n",
       "      <td>s1</td>\n",
       "      <td>Dermis</td>\n",
       "      <td>Fibroblast</td>\n",
       "      <td>Fibroblast</td>\n",
       "      <td>Fibroblast 2</td>\n",
       "    </tr>\n",
       "    <tr>\n",
       "      <th>4</th>\n",
       "      <td>s1_Derm_Fibro_AAAGATGGTTCCGGCA</td>\n",
       "      <td>4820STDY7388991</td>\n",
       "      <td>s1</td>\n",
       "      <td>Dermis</td>\n",
       "      <td>Fibroblast</td>\n",
       "      <td>Fibroblast</td>\n",
       "      <td>Fibroblast 2</td>\n",
       "    </tr>\n",
       "    <tr>\n",
       "      <th>...</th>\n",
       "      <td>...</td>\n",
       "      <td>...</td>\n",
       "      <td>...</td>\n",
       "      <td>...</td>\n",
       "      <td>...</td>\n",
       "      <td>...</td>\n",
       "      <td>...</td>\n",
       "    </tr>\n",
       "    <tr>\n",
       "      <th>82223</th>\n",
       "      <td>s3_Derm_Mac_DC_ACACCCTAGCGTAATA</td>\n",
       "      <td>4820STDY7389010</td>\n",
       "      <td>s3</td>\n",
       "      <td>Dermis</td>\n",
       "      <td>Dermal myeloid</td>\n",
       "      <td>pDC</td>\n",
       "      <td>pDC</td>\n",
       "    </tr>\n",
       "    <tr>\n",
       "      <th>82224</th>\n",
       "      <td>s1_Derm_Mac_DC_AGATTGCCATCAGTCA</td>\n",
       "      <td>4820STDY7388994</td>\n",
       "      <td>s1</td>\n",
       "      <td>Dermis</td>\n",
       "      <td>Dermal myeloid</td>\n",
       "      <td>Dermal APC</td>\n",
       "      <td>Migratory cDC</td>\n",
       "    </tr>\n",
       "    <tr>\n",
       "      <th>82225</th>\n",
       "      <td>s3_Derm_Mac_DC_TATGCCCGTGTGAAAT</td>\n",
       "      <td>4820STDY7389010</td>\n",
       "      <td>s3</td>\n",
       "      <td>Dermis</td>\n",
       "      <td>Dermal myeloid</td>\n",
       "      <td>Dermal APC</td>\n",
       "      <td>moDC1</td>\n",
       "    </tr>\n",
       "    <tr>\n",
       "      <th>82226</th>\n",
       "      <td>s1_Derm_Mac_DC_CACAGGCTCAACGGGA</td>\n",
       "      <td>4820STDY7388994</td>\n",
       "      <td>s1</td>\n",
       "      <td>Dermis</td>\n",
       "      <td>Dermal myeloid</td>\n",
       "      <td>Dermal APC</td>\n",
       "      <td>Migratory cDC</td>\n",
       "    </tr>\n",
       "    <tr>\n",
       "      <th>82227</th>\n",
       "      <td>s3_Derm_Mac_DC_CAACCTCGTGCGCTTG</td>\n",
       "      <td>4820STDY7389010</td>\n",
       "      <td>s3</td>\n",
       "      <td>Dermis</td>\n",
       "      <td>Dermal myeloid</td>\n",
       "      <td>Dermal APC</td>\n",
       "      <td>moDC1</td>\n",
       "    </tr>\n",
       "  </tbody>\n",
       "</table>\n",
       "<p>82228 rows × 7 columns</p>\n",
       "</div>"
      ],
      "text/plain": [
       "                                  Cell         SampleID Sample Tissue_layer  \\\n",
       "0       s1_Derm_Fibro_AAACCTGAGACTCGGA  4820STDY7388991     s1       Dermis   \n",
       "1       s1_Derm_Fibro_AAACCTGCAAAGGCGT  4820STDY7388991     s1       Dermis   \n",
       "2       s1_Derm_Fibro_AAACGGGTCCAGTAGT  4820STDY7388991     s1       Dermis   \n",
       "3       s1_Derm_Fibro_AAAGATGAGAGGACGG  4820STDY7388991     s1       Dermis   \n",
       "4       s1_Derm_Fibro_AAAGATGGTTCCGGCA  4820STDY7388991     s1       Dermis   \n",
       "...                                ...              ...    ...          ...   \n",
       "82223  s3_Derm_Mac_DC_ACACCCTAGCGTAATA  4820STDY7389010     s3       Dermis   \n",
       "82224  s1_Derm_Mac_DC_AGATTGCCATCAGTCA  4820STDY7388994     s1       Dermis   \n",
       "82225  s3_Derm_Mac_DC_TATGCCCGTGTGAAAT  4820STDY7389010     s3       Dermis   \n",
       "82226  s1_Derm_Mac_DC_CACAGGCTCAACGGGA  4820STDY7388994     s1       Dermis   \n",
       "82227  s3_Derm_Mac_DC_CAACCTCGTGCGCTTG  4820STDY7389010     s3       Dermis   \n",
       "\n",
       "            Flow_gate  Cell_group      Cell_type  \n",
       "0          Fibroblast  Fibroblast   Fibroblast 2  \n",
       "1          Fibroblast  Fibroblast   Fibroblast 2  \n",
       "2          Fibroblast  Fibroblast   Fibroblast 2  \n",
       "3          Fibroblast  Fibroblast   Fibroblast 2  \n",
       "4          Fibroblast  Fibroblast   Fibroblast 2  \n",
       "...               ...         ...            ...  \n",
       "82223  Dermal myeloid         pDC            pDC  \n",
       "82224  Dermal myeloid  Dermal APC  Migratory cDC  \n",
       "82225  Dermal myeloid  Dermal APC          moDC1  \n",
       "82226  Dermal myeloid  Dermal APC  Migratory cDC  \n",
       "82227  Dermal myeloid  Dermal APC          moDC1  \n",
       "\n",
       "[82228 rows x 7 columns]"
      ]
     },
     "execution_count": 18,
     "metadata": {},
     "output_type": "execute_result"
    }
   ],
   "source": [
    "meta_df"
   ]
  },
  {
   "cell_type": "markdown",
   "id": "e2c3aa79",
   "metadata": {},
   "source": [
    "### Stuff"
   ]
  },
  {
   "cell_type": "code",
   "execution_count": 5,
   "id": "153e67e3",
   "metadata": {},
   "outputs": [],
   "source": [
    "# gene signature of CD4 and CD8\n",
    "\n",
    "cd4_genes = ['CD4', 'CD3D', 'CD3E', 'CD3G']\n",
    "\n",
    "sc.tl.score_genes(adata, cd4_genes, score_name='CD4_score')"
   ]
  },
  {
   "cell_type": "code",
   "execution_count": 11,
   "id": "09fa125f",
   "metadata": {},
   "outputs": [
    {
     "data": {
      "image/png": "[encoded data removed]",
      "text/plain": [
       "<Figure size 640x480 with 2 Axes>"
      ]
     },
     "metadata": {},
     "output_type": "display_data"
    }
   ],
   "source": [
    "sc.pl.umap(adata, color = 'CD4_score')"
   ]
  }
 ],
 "metadata": {
  "kernelspec": {
   "display_name": "sc_rna_env_python",
   "language": "python",
   "name": "python3"
  },
  "language_info": {
   "codemirror_mode": {
    "name": "ipython",
    "version": 3
   },
   "file_extension": ".py",
   "mimetype": "text/x-python",
   "name": "python",
   "nbconvert_exporter": "python",
   "pygments_lexer": "ipython3",
   "version": "3.8.20"
  }
 },
 "nbformat": 4,
 "nbformat_minor": 5
}
