{
 "cells": [
  {
   "cell_type": "code",
   "execution_count": 1,
   "id": "f5131bf6",
   "metadata": {},
   "outputs": [],
   "source": [
    "import scanpy as sc\n",
    "import pandas as pd"
   ]
  },
  {
   "cell_type": "code",
   "execution_count": 2,
   "id": "2c8ac6d9",
   "metadata": {},
   "outputs": [
    {
     "name": "stdout",
     "output_type": "stream",
     "text": [
      "peak memory: 35725.25 MiB, increment: 35477.44 MiB\n"
     ]
    }
   ],
   "source": [
    "%load_ext memory_profiler\n",
    "\n",
    "# Now use it to monitor memory of a single line:\n",
    "\n",
    "adata_path = '../../processed_data2/BoneMarrow_May2024_outliers_removed_Palantir.h5ad'\n",
    "\n",
    "%memit adata = sc.read_h5ad(adata_path)"
   ]
  },
  {
   "cell_type": "code",
   "execution_count": 6,
   "id": "5a018dc1",
   "metadata": {},
   "outputs": [
    {
     "data": {
      "text/plain": [
       "AnnData object with n_obs × n_vars = 75386 × 26708\n",
       "    obs: 'n_genes_by_counts_prefilter', 'log1p_n_genes_by_counts_prefilter', 'total_counts_prefilter', 'log1p_total_counts_prefilter', 'pct_counts_in_top_50_genes_prefilter', 'pct_counts_in_top_100_genes_prefilter', 'pct_counts_in_top_200_genes_prefilter', 'pct_counts_in_top_500_genes_prefilter', 'Cluster_Fine', 'Cluster_Coarse', 'Annotation', 'Sample', 'Barcode', 'n_genes_by_counts', 'log1p_n_genes_by_counts', 'total_counts', 'log1p_total_counts', 'pct_counts_in_top_50_genes', 'pct_counts_in_top_100_genes', 'pct_counts_in_top_200_genes', 'pct_counts_in_top_500_genes', 'palantir_pseudotime', 'palantir_entropy'\n",
       "    var: 'n_cells_by_counts_prefilter', 'mean_counts_prefilter', 'log1p_mean_counts_prefilter', 'pct_dropout_by_counts_prefilter', 'total_counts_prefilter', 'log1p_total_counts_prefilter', 'n_cells', 'n_cells_by_counts', 'mean_counts', 'log1p_mean_counts', 'pct_dropout_by_counts', 'total_counts', 'log1p_total_counts', 'highly_variable', 'means', 'dispersions', 'dispersions_norm'\n",
       "    uns: 'Annotation_colors', 'Cluster_Fine_colors', 'DM_EigenValues', 'Sample_colors', 'diffmap_evals', 'draw_graph', 'hvg', 'neighbors', 'palantir_waypoints', 'pca', 'umap'\n",
       "    obsm: 'DM_EigenVectors', 'DM_EigenVectors_multiscaled', 'X_diffmap', 'X_draw_graph_fa', 'X_pca', 'X_umap', 'branch_masks', 'palantir_fate_probabilities'\n",
       "    varm: 'PCs'\n",
       "    layers: 'lognorm_pseudocount.1', 'raw_counts', 'unlogged_normalized'\n",
       "    obsp: 'DM_Kernel', 'DM_Similarity', 'connectivities', 'distances'"
      ]
     },
     "execution_count": 6,
     "metadata": {},
     "output_type": "execute_result"
    }
   ],
   "source": [
    "adata"
   ]
  },
  {
   "cell_type": "code",
   "execution_count": 12,
   "id": "87222ced",
   "metadata": {},
   "outputs": [],
   "source": [
    "gene_list = ['CD3E', 'CD4', 'CD46']\n",
    "\n",
    "sc.tl.score_genes(adata, gene_list)\n",
    "\n",
    "scores1 = adata.obs['score']"
   ]
  },
  {
   "cell_type": "code",
   "execution_count": 13,
   "id": "753cb491",
   "metadata": {},
   "outputs": [],
   "source": [
    "del adata"
   ]
  },
  {
   "cell_type": "code",
   "execution_count": 16,
   "id": "eadff0ac",
   "metadata": {},
   "outputs": [],
   "source": [
    "import numpy as np\n",
    "import anndata as ad\n",
    "\n",
    "def score_genes_light(adata, gene_list, score_name=\"gene_score\", inplace=True):\n",
    "    \"\"\"\n",
    "    Compute average expression of a gene list in backed mode without loading full .X.\n",
    "\n",
    "    Parameters:\n",
    "    - adata: AnnData object (can be backed)\n",
    "    - gene_list: list of gene names (must match adata.var_names)\n",
    "    - score_name: column name to store in adata.obs\n",
    "    - inplace: if True, stores in adata.obs; else returns the array\n",
    "\n",
    "    Returns:\n",
    "    - If inplace=False: returns numpy array of gene signature scores\n",
    "    \"\"\"\n",
    "    if adata.is_view:\n",
    "        adata = adata.copy()\n",
    "\n",
    "    # Get indices of available genes\n",
    "    var_names = list(adata.var_names)\n",
    "    gene_indices = [var_names.index(g) for g in gene_list if g in var_names]\n",
    "    if len(gene_indices) == 0:\n",
    "        raise ValueError(\"None of the genes were found in adata.var_names.\")\n",
    "\n",
    "    print(f\"Scoring {len(gene_indices)} genes out of {len(gene_list)} provided...\")\n",
    "\n",
    "    n_cells = adata.n_obs\n",
    "    scores = np.zeros(n_cells)\n",
    "\n",
    "    for idx in gene_indices:\n",
    "        gene_expr = adata[:, idx].X[:]\n",
    "        scores += np.ravel(gene_expr)\n",
    "\n",
    "    scores /= len(gene_indices)\n",
    "\n",
    "    if inplace:\n",
    "        try:\n",
    "            adata.obs[score_name] = scores\n",
    "        except ValueError:\n",
    "            raise ValueError(\"Cannot write to .obs in 'read-only' mode. Reopen with backed='r+'\")\n",
    "    else:\n",
    "        return scores\n"
   ]
  },
  {
   "cell_type": "code",
   "execution_count": 5,
   "id": "f8c159ee",
   "metadata": {},
   "outputs": [],
   "source": [
    "%load_ext memory_profiler\n",
    "\n",
    "import anndata as ad\n",
    "adata_path = '../../processed_data2/BoneMarrow_May2024_outliers_removed_Palantir.h5ad'"
   ]
  },
  {
   "cell_type": "code",
   "execution_count": 6,
   "id": "70b9ef02",
   "metadata": {},
   "outputs": [
    {
     "name": "stdout",
     "output_type": "stream",
     "text": [
      "peak memory: 32745.82 MiB, increment: 32606.84 MiB\n"
     ]
    }
   ],
   "source": [
    "%memit adata = ad.read_h5ad(adata_path, backed=\"r\")"
   ]
  },
  {
   "cell_type": "code",
   "execution_count": 7,
   "id": "ef420944",
   "metadata": {},
   "outputs": [
    {
     "name": "stdout",
     "output_type": "stream",
     "text": [
      "<class 'anndata._core.sparse_dataset.CSRDataset'>\n",
      "Backing file manager of file ../../processed_data2/BoneMarrow_May2024_outliers_removed_Palantir.h5ad.\n"
     ]
    }
   ],
   "source": [
    "print(type(adata.X))             # Should be numpy array, not sparse\n",
    "print(adata.file)                # Will be None if loaded into memory"
   ]
  },
  {
   "cell_type": "code",
   "execution_count": 10,
   "id": "aaae9462",
   "metadata": {},
   "outputs": [
    {
     "ename": "AttributeError",
     "evalue": "'CSRDataset' object has no attribute 'copy'",
     "output_type": "error",
     "traceback": [
      "\u001b[31m---------------------------------------------------------------------------\u001b[39m",
      "\u001b[31mAttributeError\u001b[39m                            Traceback (most recent call last)",
      "\u001b[36mCell\u001b[39m\u001b[36m \u001b[39m\u001b[32mIn[10]\u001b[39m\u001b[32m, line 1\u001b[39m\n\u001b[32m----> \u001b[39m\u001b[32m1\u001b[39m adata_raw = \u001b[43madata\u001b[49m\u001b[43m.\u001b[49m\u001b[43mraw\u001b[49m\u001b[43m.\u001b[49m\u001b[43mto_adata\u001b[49m\u001b[43m(\u001b[49m\u001b[43m)\u001b[49m\n",
      "\u001b[36mFile \u001b[39m\u001b[32m~/gmunoz/SCRATCH/miniconda3/envs/sc_rna_env_python2/lib/python3.13/site-packages/anndata/_core/raw.py:161\u001b[39m, in \u001b[36mRaw.to_adata\u001b[39m\u001b[34m(self)\u001b[39m\n\u001b[32m    157\u001b[39m \u001b[38;5;250m\u001b[39m\u001b[33;03m\"\"\"Create full AnnData object.\"\"\"\u001b[39;00m\n\u001b[32m    158\u001b[39m \u001b[38;5;28;01mfrom\u001b[39;00m\u001b[38;5;250m \u001b[39m\u001b[34;01manndata\u001b[39;00m\u001b[38;5;250m \u001b[39m\u001b[38;5;28;01mimport\u001b[39;00m AnnData\n\u001b[32m    160\u001b[39m \u001b[38;5;28;01mreturn\u001b[39;00m AnnData(\n\u001b[32m--> \u001b[39m\u001b[32m161\u001b[39m     X=\u001b[38;5;28;43mself\u001b[39;49m\u001b[43m.\u001b[49m\u001b[43mX\u001b[49m\u001b[43m.\u001b[49m\u001b[43mcopy\u001b[49m(),\n\u001b[32m    162\u001b[39m     var=\u001b[38;5;28mself\u001b[39m.var.copy(),\n\u001b[32m    163\u001b[39m     varm=\u001b[38;5;28;01mNone\u001b[39;00m \u001b[38;5;28;01mif\u001b[39;00m \u001b[38;5;28mself\u001b[39m._varm \u001b[38;5;129;01mis\u001b[39;00m \u001b[38;5;28;01mNone\u001b[39;00m \u001b[38;5;28;01melse\u001b[39;00m \u001b[38;5;28mself\u001b[39m._varm.copy(),\n\u001b[32m    164\u001b[39m     obs=\u001b[38;5;28mself\u001b[39m._adata.obs.copy(),\n\u001b[32m    165\u001b[39m     obsm=\u001b[38;5;28mself\u001b[39m._adata.obsm.copy(),\n\u001b[32m    166\u001b[39m     obsp=\u001b[38;5;28mself\u001b[39m._adata.obsp.copy(),\n\u001b[32m    167\u001b[39m     uns=\u001b[38;5;28mself\u001b[39m._adata.uns.copy(),\n\u001b[32m    168\u001b[39m )\n",
      "\u001b[31mAttributeError\u001b[39m: 'CSRDataset' object has no attribute 'copy'"
     ]
    }
   ],
   "source": [
    "adata_raw = adata.raw.to_adata()"
   ]
  }
 ],
 "metadata": {
  "kernelspec": {
   "display_name": "sc_rna_env_python2",
   "language": "python",
   "name": "python3"
  },
  "language_info": {
   "codemirror_mode": {
    "name": "ipython",
    "version": 3
   },
   "file_extension": ".py",
   "mimetype": "text/x-python",
   "name": "python",
   "nbconvert_exporter": "python",
   "pygments_lexer": "ipython3",
   "version": "3.13.5"
  }
 },
 "nbformat": 4,
 "nbformat_minor": 5
}
